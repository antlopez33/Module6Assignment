{
 "cells": [
  {
   "cell_type": "code",
   "execution_count": 13,
   "metadata": {},
   "outputs": [],
   "source": [
    "import pandas as pd\n",
    "from sklearn.model_selection import train_test_split\n",
    "from sklearn.ensemble import RandomForestClassifier\n",
    "from sklearn.metrics import classification_report, confusion_matrix\n",
    "import matplotlib.pyplot as plt\n",
    "import seaborn as sns"
   ]
  },
  {
   "cell_type": "code",
   "execution_count": 14,
   "metadata": {},
   "outputs": [],
   "source": [
    "df = pd.read_csv(\"high_diamond_ranked_10min.csv\")\n",
    "\n",
    "feature_cols = [\n",
    "    \"blueGoldDiff\", \"blueKills\", \"blueDeaths\", \"blueAssists\",\n",
    "    \"blueTowersDestroyed\", \"blueEliteMonsters\", \"blueDragons\",\n",
    "    \"blueHeralds\", \"blueWardsPlaced\", \"blueWardsDestroyed\", \"blueAvgLevel\"\n",
    "]\n",
    "\n",
    "x = df[feature_cols]\n",
    "y = df[\"blueWins\"]"
   ]
  },
  {
   "cell_type": "code",
   "execution_count": 15,
   "metadata": {},
   "outputs": [
    {
     "name": "stdout",
     "output_type": "stream",
     "text": [
      "Classification Report:\n",
      "               precision    recall  f1-score   support\n",
      "\n",
      "           0       0.70      0.72      0.71       990\n",
      "           1       0.71      0.69      0.70       986\n",
      "\n",
      "    accuracy                           0.70      1976\n",
      "   macro avg       0.71      0.70      0.70      1976\n",
      "weighted avg       0.71      0.70      0.70      1976\n",
      "\n"
     ]
    }
   ],
   "source": [
    "x_train, x_test, y_train, y_test = train_test_split(\n",
    "    x, y, stratify=y, test_size=0.2, random_state=42\n",
    ")\n",
    "\n",
    "model = RandomForestClassifier(n_estimators=100, random_state=42)\n",
    "model.fit(x_train, y_train)\n",
    "y_pred = model.predict(x_test)\n",
    "\n",
    "print(\"Classification Report:\\n\", classification_report(y_test, y_pred))"
   ]
  },
  {
   "cell_type": "code",
   "execution_count": 16,
   "metadata": {},
   "outputs": [
    {
     "data": {
      "image/png": "[encoded data removed]",
      "text/plain": [
       "<Figure size 600x500 with 2 Axes>"
      ]
     },
     "metadata": {},
     "output_type": "display_data"
    }
   ],
   "source": [
    "plt.figure(figsize=(6, 5))\n",
    "sns.heatmap(confusion_matrix(y_test, y_pred), annot=True, fmt='d', cmap='Blues')\n",
    "plt.title(\"Confusion Matrix\")\n",
    "plt.xlabel(\"Predicted\")\n",
    "plt.ylabel(\"Actual\")\n",
    "plt.tight_layout()\n",
    "plt.show()"
   ]
  },
  {
   "cell_type": "code",
   "execution_count": 25,
   "metadata": {},
   "outputs": [
    {
     "name": "stdout",
     "output_type": "stream",
     "text": [
      "      blueGoldDiff  blueKills  blueDeaths  blueAssists  blueTowersDestroyed  \\\n",
      "7880         -2195          4           7            7                    0   \n",
      "4337          -344          4           4            2                    0   \n",
      "7740          -387          4          10            2                    0   \n",
      "2368          2123          5           2            4                    0   \n",
      "9116           724          9           7           13                    0   \n",
      "\n",
      "      blueEliteMonsters  blueDragons  blueHeralds  blueWardsPlaced  \\\n",
      "7880                  0            0            0               13   \n",
      "4337                  1            1            0               12   \n",
      "7740                  0            0            0               12   \n",
      "2368                  2            1            1               38   \n",
      "9116                  1            1            0               18   \n",
      "\n",
      "      blueWardsDestroyed  blueAvgLevel  redGoldDiff  redKills  redDeaths  \\\n",
      "7880                   1           6.8         2195         7          4   \n",
      "4337                   4           7.2          344         4          4   \n",
      "7740                   4           7.2          387        10          4   \n",
      "2368                   1           7.2        -2123         2          5   \n",
      "9116                   3           6.6         -724         7          9   \n",
      "\n",
      "      redAssists  redTowersDestroyed  redEliteMonsters  redDragons  \\\n",
      "7880           8                   0                 0           0   \n",
      "4337           4                   0                 0           0   \n",
      "7740          11                   0                 1           1   \n",
      "2368           4                   0                 0           0   \n",
      "9116           9                   0                 0           0   \n",
      "\n",
      "      redHeralds  redWardsPlaced  redWardsDestroyed  redAvgLevel  blueWins  \\\n",
      "7880           0              14                  3          7.0         1   \n",
      "4337           0              16                  1          6.6         1   \n",
      "7740           0              16                  2          7.0         1   \n",
      "2368           0             146                 14          6.6         0   \n",
      "9116           0              40                  3          6.6         0   \n",
      "\n",
      "      predicted_blueWins  \n",
      "7880                   0  \n",
      "4337                   0  \n",
      "7740                   0  \n",
      "2368                   1  \n",
      "9116                   1  \n"
     ]
    }
   ],
   "source": [
    "wrong_preds = x_test.copy()\n",
    "wrong_preds[\"true\"] = y_test\n",
    "wrong_preds[\"pred\"] = y_pred\n",
    "\n",
    "wrong_samples = wrong_preds[wrong_preds[\"true\"] != wrong_preds[\"pred\"]].sample(5, random_state=42)\n",
    "wrong_indices = wrong_samples.index\n",
    "red_columns = [col.replace(\"blue\", \"red\") for col in feature_cols]\n",
    "wrong_positions = x_test.index.get_indexer(wrong_indices)\n",
    "\n",
    "comparison = df.loc[wrong_indices, feature_cols + red_columns + [\"blueWins\"]]\n",
    "comparison[\"predicted_blueWins\"] = y_pred[wrong_positions]\n",
    "print(comparison)"
   ]
  }
 ],
 "metadata": {
  "kernelspec": {
   "display_name": "base",
   "language": "python",
   "name": "python3"
  },
  "language_info": {
   "codemirror_mode": {
    "name": "ipython",
    "version": 3
   },
   "file_extension": ".py",
   "mimetype": "text/x-python",
   "name": "python",
   "nbconvert_exporter": "python",
   "pygments_lexer": "ipython3",
   "version": "3.12.4"
  }
 },
 "nbformat": 4,
 "nbformat_minor": 2
}
